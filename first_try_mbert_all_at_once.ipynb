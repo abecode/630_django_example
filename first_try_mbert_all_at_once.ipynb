{
  "nbformat": 4,
  "nbformat_minor": 0,
  "metadata": {
    "colab": {
      "provenance": [],
      "collapsed_sections": [],
      "authorship_tag": "ABX9TyMvQhjtv55l65bN7hnnJLdd",
      "include_colab_link": true
    },
    "kernelspec": {
      "name": "python3",
      "display_name": "Python 3"
    },
    "language_info": {
      "name": "python"
    }
  },
  "cells": [
    {
      "cell_type": "markdown",
      "metadata": {
        "id": "view-in-github",
        "colab_type": "text"
      },
      "source": [
        "<a href=\"https://colab.research.google.com/github/abecode/630_django_example/blob/master/first_try_mbert_all_at_once.ipynb\" target=\"_parent\"><img src=\"https://colab.research.google.com/assets/colab-badge.svg\" alt=\"Open In Colab\"/></a>"
      ]
    },
    {
      "cell_type": "markdown",
      "source": [
        "## downloading data and model\n"
      ],
      "metadata": {
        "id": "6hq04Ju40u8a"
      }
    },
    {
      "cell_type": "code",
      "execution_count": null,
      "metadata": {
        "colab": {
          "base_uri": "https://localhost:8080/"
        },
        "id": "edVE8nBljO82",
        "outputId": "df7090a7-403b-4dd7-b7c1-b528377fea90"
      },
      "outputs": [
        {
          "output_type": "stream",
          "name": "stdout",
          "text": [
            "  % Total    % Received % Xferd  Average Speed   Time    Time     Time  Current\n",
            "                                 Dload  Upload   Total   Spent    Left  Speed\n",
            "100 13.3M  100 13.3M    0     0  5357k      0  0:00:02  0:00:02 --:--:-- 5355k\n"
          ]
        }
      ],
      "source": [
        "# download the data\n",
        "# right now it's commented out to prevent accidental load to the semeval server\n",
        "# !curl  https://propaganda.math.unipd.it/semeval2023task3/data/semeval2023task3bundle-v1.tgz  | tar -xz"
      ]
    },
    {
      "cell_type": "code",
      "source": [
        "# get bert model\n",
        "!wget https://storage.googleapis.com/bert_models/2018_11_23/multi_cased_L-12_H-768_A-12.zip\n",
        "!unzip multi_cased_L-12_H-768_A-12.zip"
      ],
      "metadata": {
        "colab": {
          "base_uri": "https://localhost:8080/"
        },
        "id": "-t0QTtoXuzAv",
        "outputId": "56c3d4a2-c4d8-4f10-dc57-609af4d6489c"
      },
      "execution_count": null,
      "outputs": [
        {
          "output_type": "stream",
          "name": "stdout",
          "text": [
            "--2022-10-30 21:10:58--  https://storage.googleapis.com/bert_models/2018_11_23/multi_cased_L-12_H-768_A-12.zip\n",
            "Resolving storage.googleapis.com (storage.googleapis.com)... 172.217.13.80, 172.253.62.128, 172.217.0.48, ...\n",
            "Connecting to storage.googleapis.com (storage.googleapis.com)|172.217.13.80|:443... connected.\n",
            "HTTP request sent, awaiting response... 200 OK\n",
            "Length: 662903077 (632M) [application/zip]\n",
            "Saving to: ‘multi_cased_L-12_H-768_A-12.zip’\n",
            "\n",
            "multi_cased_L-12_H- 100%[===================>] 632.19M   237MB/s    in 2.7s    \n",
            "\n",
            "2022-10-30 21:11:00 (237 MB/s) - ‘multi_cased_L-12_H-768_A-12.zip’ saved [662903077/662903077]\n",
            "\n",
            "Archive:  multi_cased_L-12_H-768_A-12.zip\n",
            "   creating: multi_cased_L-12_H-768_A-12/\n",
            "  inflating: multi_cased_L-12_H-768_A-12/bert_model.ckpt.meta  \n",
            "  inflating: multi_cased_L-12_H-768_A-12/bert_model.ckpt.data-00000-of-00001  \n",
            "  inflating: multi_cased_L-12_H-768_A-12/vocab.txt  \n",
            "  inflating: multi_cased_L-12_H-768_A-12/bert_model.ckpt.index  \n",
            "  inflating: multi_cased_L-12_H-768_A-12/bert_config.json  \n"
          ]
        }
      ]
    },
    {
      "cell_type": "markdown",
      "source": [
        "## imports"
      ],
      "metadata": {
        "id": "_oLf69bu0twY"
      }
    },
    {
      "cell_type": "code",
      "source": [
        "import os\n",
        "import re\n"
      ],
      "metadata": {
        "id": "XfnSdGDRkx-b"
      },
      "execution_count": 46,
      "outputs": []
    },
    {
      "cell_type": "code",
      "source": [
        "!!pip install -q tf-models-official==2.4.0"
      ],
      "metadata": {
        "id": "lyHtRznsxpoR"
      },
      "execution_count": null,
      "outputs": []
    },
    {
      "cell_type": "code",
      "source": [
        "import tensorflow as tf\n",
        "from official.modeling import tf_utils\n",
        "from official import nlp\n",
        "from official.nlp import bert\n",
        "# Load the required submodules\n",
        "import official.nlp.optimization\n",
        "import official.nlp.bert.bert_models\n",
        "import official.nlp.bert.configs\n",
        "import official.nlp.bert.run_classifier\n",
        "import official.nlp.bert.tokenization\n",
        "import official.nlp.data.classifier_data_lib\n",
        "import official.nlp.modeling.losses\n",
        "import official.nlp.modeling.models\n",
        "import official.nlp.modeling.networks"
      ],
      "metadata": {
        "id": "XK6xvfEtxjH2"
      },
      "execution_count": 57,
      "outputs": []
    },
    {
      "cell_type": "markdown",
      "source": [
        "## data loading"
      ],
      "metadata": {
        "id": "mvzTX7h91C4c"
      }
    },
    {
      "cell_type": "code",
      "source": [
        "data_dir = 'data'"
      ],
      "metadata": {
        "id": "JR3JZDsBmKsN"
      },
      "execution_count": null,
      "outputs": []
    },
    {
      "cell_type": "code",
      "source": [
        "en_train_articles_subtask1 = {}\n",
        "for fname in os.scandir(os.path.join(data_dir, \"en\", \"train-articles-subtask-1\")):\n",
        "  if fname.is_file() and fname.name.endswith(\"txt\"):\n",
        "    article_id = re.search(r'article(\\d+)\\.txt$', fname.path).group(1)\n",
        "    #print(article_id)\n",
        "    en_train_articles_subtask1[article_id] = fname.path\n",
        "\n",
        "\n"
      ],
      "metadata": {
        "id": "5KqBPnmfkzjV"
      },
      "execution_count": null,
      "outputs": []
    },
    {
      "cell_type": "code",
      "source": [
        "en_train_labels_subtask1 = {}\n",
        "with open(os.path.join(data_dir, \"en\", \"train-labels-subtask-1.txt\")) as f:\n",
        "  for line in f:\n",
        "    article_id, genre = line.strip().split(\"\\t\")\n",
        "    en_train_labels_subtask1[article_id] = genre\n"
      ],
      "metadata": {
        "id": "BB3-mQrXqPYP"
      },
      "execution_count": null,
      "outputs": []
    },
    {
      "cell_type": "code",
      "source": [
        "# symmetric difference between articles and labels\n",
        "# should be empty\n",
        "assert not set(en_train_labels_subtask1) ^ set(en_train_articles_subtask1)"
      ],
      "metadata": {
        "id": "M0GtWD2apzCd"
      },
      "execution_count": null,
      "outputs": []
    },
    {
      "cell_type": "code",
      "source": [
        "train_articles_subtask1 = {}\n",
        "langs = [\"en\", \"fr\", \"it\", \"po\", \"ru\"]\n",
        "for lang in langs:\n",
        "  for fname in os.scandir(os.path.join(data_dir, lang, \"train-articles-subtask-1\")):\n",
        "    if fname.is_file() and fname.name.endswith(\"txt\"):\n",
        "      article_id = re.search(r'article(\\d+)\\.txt$', fname.path).group(1)\n",
        "      #print(article_id)\n",
        "      train_articles_subtask1[article_id] = fname.path\n",
        "\n",
        "train_labels_subtask1 = {}\n",
        "for lang in langs:\n",
        "  with open(os.path.join(data_dir, lang, \"train-labels-subtask-1.txt\")) as f:\n",
        "    for line in f:\n",
        "      article_id, genre = line.strip().split(\"\\t\")\n",
        "      train_labels_subtask1[article_id] = genre\n",
        "\n",
        "# symmetric difference between articles and labels\n",
        "# should be empty\n",
        "assert not set(train_labels_subtask1) ^ set(train_articles_subtask1)"
      ],
      "metadata": {
        "id": "1-njsQ3NnEMz"
      },
      "execution_count": null,
      "outputs": []
    },
    {
      "cell_type": "markdown",
      "source": [
        "## tokenizer"
      ],
      "metadata": {
        "id": "UuYKSpYD1Kex"
      }
    },
    {
      "cell_type": "code",
      "source": [
        "bert_model_dir = \"multi_cased_L-12_H-768_A-12\"\n",
        "tokenizer = bert.tokenization.FullTokenizer(\n",
        "    vocab_file=os.path.join(bert_model_dir, \"vocab.txt\"),\n",
        "     do_lower_case=True)\n",
        "\n",
        "print(\"Vocab size:\", len(tokenizer.vocab))"
      ],
      "metadata": {
        "colab": {
          "base_uri": "https://localhost:8080/"
        },
        "id": "z4Be_44Nw5NK",
        "outputId": "b1142194-ff3a-4c10-87b2-ee97e1aa70e0"
      },
      "execution_count": 59,
      "outputs": [
        {
          "output_type": "stream",
          "name": "stdout",
          "text": [
            "Vocab size: 119547\n"
          ]
        }
      ]
    },
    {
      "cell_type": "code",
      "source": [
        "# test tokenizer\n",
        "tokens = tokenizer.tokenize(\"Hello TensorFlow!\")\n",
        "print(tokens)\n",
        "ids = tokenizer.convert_tokens_to_ids(tokens)\n",
        "print(ids)\n",
        "tokens = tokenizer.tokenize(\"subset(e,nightmare)\")\n",
        "print(tokens)\n",
        "ids = tokenizer.convert_tokens_to_ids(tokens)\n",
        "print(ids)\n",
        "\n",
        "some_polish = open(\"data/po/train-articles-subtask-1/article251.txt\").read().rstrip()\n",
        "print(some_polish)\n",
        "tokens = tokenizer.tokenize(some_polish)\n",
        "print(tokens)\n",
        "print(len(tokens))"
      ],
      "metadata": {
        "colab": {
          "base_uri": "https://localhost:8080/"
        },
        "id": "yU41FtSCy1nb",
        "outputId": "7faadf8b-1327-44ad-b9a9-8a22e2e0aee2"
      },
      "execution_count": 63,
      "outputs": [
        {
          "output_type": "stream",
          "name": "stdout",
          "text": [
            "['hell', '##o', 'ten', '##sor', '##flow', '!']\n",
            "[61694, 10133, 11769, 28919, 105739, 106]\n",
            "['sub', '##set', '(', 'e', ',', 'night', '##mare', ')']\n",
            "[13987, 14488, 113, 173, 117, 16903, 34918, 114]\n",
            "Nord Stream 2 największym problemem niemieckiej polityki\n",
            "\n",
            "Gazociąg Nord Stream 2 i wiążąca się z nim zależność energetyczna od Rosji to największy problem niemieckiej polityki zagranicznej - pisze dziennik „Sueddeutsche Zeitung”, podkreślając, że Niemcy muszą uwolnić się od \"od zgubnej zależności\" od rosyjskiego gazu.\n",
            "\n",
            "Taka zależność istniała już w czasie zimnej wojny, wówczas jednak argumentowano, że dostawca i klient potrzebują siebie nawzajem i powinni we własnym interesie oddzielać biznes od polityki – dodaje gazeta.\n",
            "\n",
            "Niemcy potrzebują rosyjskiego gazu, a Rosja niemieckich pieniędzy, jednak „prezydent Rosji (Władimir Putin) myśli strategicznie” i kwestię dochodu odstawił na dalszy plan – zaznacza \"SZ\".\n",
            "\n",
            "„Rosja od dawna realizuje strategię podziału Unii Europejskiej, izolowania poszczególnych państw, a tym samym rozbicia najsilniejszej broni Europy: jedności gospodarczej” - ocenia gazeta, zauważając, że takie podejście może ją chronić przed nałożeniem sankcji, a także „służy nadrzędnemu celowi trzymania UE i jej demokratycznych ideałów na dystans”.\n",
            "\n",
            "\"SZ\" wskazuje, że „najważniejszym celem tej polityki destabilizacji są Niemcy, ponieważ kraj ten ma największe wpływy w Europie, a społeczeństwo i polityka są podzielone w postrzeganiu Rosji”.\n",
            "\n",
            "„Oczywiście nie stoi za tym żaden techniczny problem, lecz polityczna intencja, którą prezydent Władimir Putin często i wprost podkreślał: jeśli gazociąg NS2 w końcu zostanie uruchomiony, to skończy się niedobór gazu” - pisze \"SZ\", dodając, że taki szantaż wymaga trudnej decyzji: poddanie się czy opór.\n",
            "\n",
            "Zatwierdzenie gazociągu NS2 będzie najważniejszą decyzją w polityce zagranicznej, jaką nowy rząd federalny odziedziczy po poprzednim, co zmusi nową koalicję rządzącą do zajęcia stanowiska w tej sprawie - zauważa gazeta.\n",
            "\n",
            "Jak ocenia, ponieważ problematyczna kwestia Nord Stream 2 pozostaje nierozwiązana już od dawna, \"słabną wcześniejsze argumenty za jego budową\" - np. ten, że jeśli Rosja przykręci kurek z gazem, Ukraina i kraje Europy Środkowej będą mogły się zaopatrywać tzw. rewersem z Niemiec. Dziennik wskazuje jednak, że \"jeśli gazu będzie naprawdę mało i niemieccy dostawcy gazu zaczną się wykłócać o każdy metr sześcienny, konflikt przeniesie się na Europę Zachodnią”.\n",
            "\n",
            "Problemów jest wiele, a „kupujący jest uwięziony w sieci zależności i własnej podatności na szantaż”. W tej sytuacji wyjście jest tylko jedno - Niemcy muszą uwolnić się od zależności od Rosji poprzez znalezienie innych źródeł dostaw, alternatywne źródła energii, stanowczość w interpretowaniu kontraktu na dostawy i wreszcie polityczną decyzję o zamknięcie gazociągu - ocenia dziennik.\n",
            "\n",
            "\"Nie tylko Ukraina staje się potencjalnym celem przez rosyjską politykę gazową, także Niemcy popadają w zgubną zależność. Problem bynajmniej nie maleje” - podsumowuje \"Sueddeutsche Zeitung\".\n",
            "\n",
            "Marzena Szulc (PAP)\n",
            "['nord', 'stream', '2', 'naj', '##wiek', '##szym', 'probleme', '##m', 'niemieckiej', 'polityk', '##i', 'gaz', '##oci', '##ag', 'nord', 'stream', '2', 'i', 'wia', '##za', '##ca', 'sie', 'z', 'nim', 'zal', '##ez', '##nos', '##c', 'ene', '##rge', '##ty', '##czna', 'od', 'ros', '##ji', 'to', 'naj', '##wiek', '##szy', 'problem', 'niemieckiej', 'polityk', '##i', 'zag', '##rani', '##cznej', '-', 'pis', '##ze', 'd', '##zien', '##nik', '„', 'sue', '##dde', '##uts', '##che', 'ze', '##itung', '[UNK]', ',', 'pod', '##kre', '##sla', '##ja', '##c', ',', 'ze', 'niem', '##cy', 'mu', '##sza', 'u', '##wo', '##lni', '##c', 'sie', 'od', '\"', 'od', 'z', '##gu', '##bne', '##j', 'zal', '##ez', '##nos', '##ci', '\"', 'od', 'rosyjski', '##ego', 'gaz', '##u', '.', 'taka', 'zal', '##ez', '##nos', '##c', 'ist', '##nia', '##ła', 'ju', '##z', 'w', 'czasie', 'zi', '##mne', '##j', 'wojny', ',', 'wo', '##w', '##czas', 'jednak', 'argumento', '##wano', ',', 'ze', 'dosta', '##wca', 'i', 'kl', '##ient', 'pot', '##rze', '##bu', '##ja', 'siebie', 'na', '##w', '##zaje', '##m', 'i', 'po', '##win', '##ni', 'we', 'w', '##ła', '##snym', 'interes', '##ie', 'odd', '##zie', '##lac', 'biz', '##nes', 'od', 'polityk', '##i', '[UNK]', 'do', '##daje', 'gaz', '##eta', '.', 'niem', '##cy', 'pot', '##rze', '##bu', '##ja', 'rosyjski', '##ego', 'gaz', '##u', ',', 'a', 'ros', '##ja', 'niemieckich', 'pieni', '##ed', '##zy', ',', 'jednak', '„', 'prezydent', 'ros', '##ji', '(', 'w', '##ła', '##dim', '##ir', 'put', '##in', ')', 'my', '##sli', 'strategic', '##znie', '[UNK]', 'i', 'k', '##west', '##ie', 'doch', '##odu', 'od', '##sta', '##wił', 'na', 'dal', '##szy', 'plan', '[UNK]', 'za', '##zna', '##cza', '\"', 'sz', '\"', '.', '„', 'ros', '##ja', 'od', 'dawna', 'real', '##izuje', 'str', '##ategi', '##e', 'podziału', 'unii', 'euro', '##pe', '##jskiej', ',', 'iz', '##olo', '##wania', 'pos', '##z', '##czego', '##lnych', 'pan', '##st', '##w', ',', 'a', 'tym', 'samym', 'ro', '##z', '##bic', '##ia', 'naj', '##sil', '##niej', '##szej', 'broni', 'euro', '##py', ':', 'jedno', '##sci', 'go', '##sp', '##oda', '##rc', '##zej', '[UNK]', '-', 'o', '##cenia', 'gaz', '##eta', ',', 'za', '##uwa', '##zaj', '##ac', ',', 'ze', 'takie', 'pode', '##js', '##cie', 'mo', '##ze', 'ja', 'chronic', 'przed', 'na', '##ło', '##zeniem', 'sank', '##cji', ',', 'a', 'tak', '##ze', '„', 's', '##łu', '##zy', 'nad', '##rze', '##dne', '##mu', 'celo', '##wi', 'trzy', '##mania', 'u', '##e', 'i', 'jej', 'demo', '##krat', '##ycznych', 'idea', '##ło', '##w', 'na', 'dy', '##stan', '##s', '[UNK]', '.', '\"', 'sz', '\"', 'w', '##ska', '##zuje', ',', 'ze', '„', 'naj', '##wa', '##znie', '##js', '##zym', 'celem', 'tej', 'polityk', '##i', 'desta', '##bili', '##zacji', 'sa', 'niem', '##cy', ',', 'po', '##nie', '##wa', '##z', 'kraj', 'ten', 'ma', 'naj', '##wiek', '##sze', 'wpływ', '##y', 'w', 'euro', '##pie', ',', 'a', 'sp', '##o', '##łe', '##cze', '##nst', '##wo', 'i', 'polityk', '##a', 'sa', 'pod', '##zielone', 'w', 'post', '##rze', '##gani', '##u', 'ros', '##ji', '[UNK]', '.', '„', 'o', '##czy', '##wis', '##cie', 'nie', 'sto', '##i', 'za', 'tym', 'za', '##den', 'tech', '##nic', '##zny', 'problem', ',', 'lecz', 'poli', '##ty', '##czna', 'inte', '##nc', '##ja', ',', 'kt', '##ora', 'prezydent', 'w', '##ła', '##dim', '##ir', 'put', '##in', 'cz', '##esto', 'i', 'w', '##pro', '##st', 'pod', '##kre', '##sla', '##ł', ':', 'je', '##sli', 'gaz', '##oci', '##ag', 'ns', '##2', 'w', 'koncu', 'zo', '##stanie', 'ur', '##uch', '##omi', '##ony', ',', 'to', 'sk', '##on', '##czy', 'sie', 'nie', '##do', '##bor', 'gaz', '##u', '[UNK]', '-', 'pis', '##ze', '\"', 'sz', '\"', ',', 'do', '##daja', '##c', ',', 'ze', 'taki', 'sz', '##anta', '##z', 'w', '##ym', '##aga', 'tr', '##ud', '##nej', 'de', '##cy', '##zji', ':', 'pod', '##danie', 'sie', 'czy', 'op', '##or', '.', 'zat', '##wie', '##rd', '##zenie', 'gaz', '##oci', '##agu', 'ns', '##2', 'bed', '##zie', 'naj', '##wa', '##znie', '##js', '##za', 'de', '##cy', '##zja', 'w', 'poli', '##ty', '##ce', 'zag', '##rani', '##cznej', ',', 'jak', '##a', 'nowy', 'r', '##za', '##d', 'federal', '##ny', 'od', '##zie', '##dzi', '##czy', 'po', 'pop', '##rze', '##dni', '##m', ',', 'co', 'zm', '##usi', 'now', '##a', 'ko', '##ali', '##cje', 'r', '##za', '##dza', '##ca', 'do', 'za', '##je', '##cia', 'stanowiska', 'w', 'tej', 'sprawie', '-', 'za', '##uwa', '##za', 'gaz', '##eta', '.', 'jak', 'o', '##cenia', ',', 'po', '##nie', '##wa', '##z', 'problema', '##ty', '##czna', 'k', '##west', '##ia', 'nord', 'stream', '2', 'po', '##zos', '##taje', 'nie', '##ro', '##z', '##wia', '##zana', 'ju', '##z', 'od', 'dawna', ',', '\"', 's', '##ła', '##bna', 'w', '##cze', '##sni', '##ej', '##sze', 'argument', '##y', 'za', 'jego', 'bu', '##dowa', '\"', '-', 'np', '.', 'ten', ',', 'ze', 'je', '##sli', 'ros', '##ja', 'przy', '##kre', '##ci', 'kur', '##ek', 'z', 'gaz', '##em', ',', 'ukr', '##aina', 'i', 'kraje', 'euro', '##py', 's', '##rodkowej', 'bed', '##a', 'mo', '##gły', 'sie', 'za', '##opa', '##try', '##wa', '##c', 'tzw', '.', 're', '##wers', '##em', 'z', 'niem', '##iec', '.', 'd', '##zien', '##nik', 'w', '##ska', '##zuje', 'jednak', ',', 'ze', '\"', 'je', '##sli', 'gaz', '##u', 'bed', '##zie', 'napr', '##aw', '##de', 'ma', '##ło', 'i', 'niem', '##iec', '##cy', 'dosta', '##wcy', 'gaz', '##u', 'za', '##czna', 'sie', 'w', '##yk', '##ło', '##ca', '##c', 'o', 'ka', '##zdy', 'metr', 'sz', '##esc', '##ien', '##ny', ',', 'konflikt', 'pr', '##zenie', '##sie', 'sie', 'na', 'euro', '##pe', 'za', '##chod', '##nia', '[UNK]', '.', 'problem', '##ow', 'jest', 'wiele', ',', 'a', '„', 'kup', '##uja', '##cy', 'jest', 'u', '##wie', '##zion', '##y', 'w', 'sieci', 'zal', '##ez', '##nos', '##ci', 'i', 'w', '##ła', '##sne', '##j', 'pod', '##at', '##nos', '##ci', 'na', 'sz', '##anta', '##z', '[UNK]', '.', 'w', 'tej', 'sytuacji', 'w', '##y', '##js', '##cie', 'jest', 'tylko', 'jedno', '-', 'niem', '##cy', 'mu', '##sza', 'u', '##wo', '##lni', '##c', 'sie', 'od', 'zal', '##ez', '##nos', '##ci', 'od', 'ros', '##ji', 'poprzez', 'zna', '##lez', '##ienie', 'innych', 'z', '##rode', '##ł', 'dosta', '##w', ',', 'alter', '##nat', '##yw', '##ne', 'z', '##rod', '##ła', 'energii', ',', 'stan', '##ow', '##cz', '##os', '##c', 'w', 'inter', '##pret', '##owaniu', 'kontrakt', '##u', 'na', 'dosta', '##wy', 'i', 'w', '##res', '##z', '##cie', 'poli', '##ty', '##czna', 'de', '##cy', '##zje', 'o', 'za', '##m', '##k', '##niec', '##ie', 'gaz', '##oci', '##agu', '-', 'o', '##cenia', 'd', '##zien', '##nik', '.', '\"', 'nie', 'tylko', 'ukr', '##aina', 'sta', '##je', 'sie', 'pot', '##en', '##cja', '##lnym', 'celem', 'przez', 'ros', '##yjska', 'polityk', '##e', 'gaz', '##owa', ',', 'tak', '##ze', 'niem', '##cy', 'pop', '##ada', '##ja', 'w', 'z', '##gu', '##bna', 'zal', '##ez', '##nos', '##c', '.', 'problem', 'by', '##na', '##j', '##mn', '##iej', 'nie', 'male', '##je', '[UNK]', '-', 'pod', '##sum', '##ow', '##uje', '\"', 'sue', '##dde', '##uts', '##che', 'ze', '##itung', '\"', '.', 'mar', '##zena', 'sz', '##ul', '##c', '(', 'pa', '##p', ')']\n",
            "910\n"
          ]
        }
      ]
    },
    {
      "cell_type": "markdown",
      "source": [
        "## "
      ],
      "metadata": {
        "id": "6LNuTFi41Q_q"
      }
    }
  ]
}